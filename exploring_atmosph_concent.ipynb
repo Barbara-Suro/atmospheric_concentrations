{
 "cells": [
  {
   "cell_type": "code",
   "execution_count": 2,
   "metadata": {
    "id": "ujrWDVcMG7GR"
   },
   "outputs": [],
   "source": [
    "from sklearn.cluster import KMeans\n",
    "import pandas as pd\n",
    "import seaborn as sns\n",
    "from sklearn.preprocessing import MinMaxScaler\n",
    "from sklearn.preprocessing import StandardScaler\n",
    "\n",
    "from matplotlib import pyplot as plt\n",
    "%matplotlib inline"
   ]
  },
  {
   "cell_type": "markdown",
   "metadata": {
    "id": "9CXhRF7mw2bS"
   },
   "source": [
    "##### **Load the dataset**"
   ]
  },
  {
   "cell_type": "code",
   "execution_count": 3,
   "metadata": {
    "id": "K8IPNZvEHOQf"
   },
   "outputs": [],
   "source": [
    "# 1. Load CSV files \n",
    "\n",
    "file_path = \"2013_NO2.csv\"\n",
    "df_NO2 = pd.read_csv(file_path)\n",
    "\n",
    "file_path = \"2013_NOx.csv\"\n",
    "df_NOx = pd.read_csv(file_path)\n",
    "\n",
    "file_path = \"2013_PM10.csv\"\n",
    "df_PM10 = pd.read_csv(file_path)\n",
    "\n",
    "file_path = \"2013_PM25.csv\"\n",
    "df_PM25 = pd.read_csv(file_path)"
   ]
  },
  {
   "cell_type": "code",
   "execution_count": 4,
   "metadata": {
    "colab": {
     "base_uri": "https://localhost:8080/",
     "height": 206
    },
    "id": "ZPxZWI1TODIq",
    "outputId": "e556ca3e-30ca-4ba4-dc68-eab432d103de"
   },
   "outputs": [
    {
     "data": {
      "text/html": [
       "<div>\n",
       "<style scoped>\n",
       "    .dataframe tbody tr th:only-of-type {\n",
       "        vertical-align: middle;\n",
       "    }\n",
       "\n",
       "    .dataframe tbody tr th {\n",
       "        vertical-align: top;\n",
       "    }\n",
       "\n",
       "    .dataframe thead th {\n",
       "        text-align: right;\n",
       "    }\n",
       "</style>\n",
       "<table border=\"1\" class=\"dataframe\">\n",
       "  <thead>\n",
       "    <tr style=\"text-align: right;\">\n",
       "      <th></th>\n",
       "      <th>x</th>\n",
       "      <th>y</th>\n",
       "      <th>conct</th>\n",
       "      <th>year</th>\n",
       "    </tr>\n",
       "  </thead>\n",
       "  <tbody>\n",
       "    <tr>\n",
       "      <th>0</th>\n",
       "      <td>501460</td>\n",
       "      <td>170580</td>\n",
       "      <td>49.21837</td>\n",
       "      <td>2013</td>\n",
       "    </tr>\n",
       "    <tr>\n",
       "      <th>1</th>\n",
       "      <td>501460</td>\n",
       "      <td>170600</td>\n",
       "      <td>49.78666</td>\n",
       "      <td>2013</td>\n",
       "    </tr>\n",
       "    <tr>\n",
       "      <th>2</th>\n",
       "      <td>501460</td>\n",
       "      <td>170620</td>\n",
       "      <td>50.36728</td>\n",
       "      <td>2013</td>\n",
       "    </tr>\n",
       "    <tr>\n",
       "      <th>3</th>\n",
       "      <td>501460</td>\n",
       "      <td>170640</td>\n",
       "      <td>50.94635</td>\n",
       "      <td>2013</td>\n",
       "    </tr>\n",
       "    <tr>\n",
       "      <th>4</th>\n",
       "      <td>501460</td>\n",
       "      <td>170660</td>\n",
       "      <td>51.51179</td>\n",
       "      <td>2013</td>\n",
       "    </tr>\n",
       "  </tbody>\n",
       "</table>\n",
       "</div>"
      ],
      "text/plain": [
       "        x       y     conct  year\n",
       "0  501460  170580  49.21837  2013\n",
       "1  501460  170600  49.78666  2013\n",
       "2  501460  170620  50.36728  2013\n",
       "3  501460  170640  50.94635  2013\n",
       "4  501460  170660  51.51179  2013"
      ]
     },
     "execution_count": 4,
     "metadata": {},
     "output_type": "execute_result"
    }
   ],
   "source": [
    "df_NOx.head()"
   ]
  },
  {
   "cell_type": "markdown",
   "metadata": {
    "id": "IpuXrBbaOHUf"
   },
   "source": [
    "**Note that x, y variables values do not represent longitude and latitude directly.**\n",
    "\n",
    "Based on the information from the London Atmospheric Emissions Inventory, it appears that the x and y values are *projected coordinates* of a point in the British National **Grid reference system**.\n",
    "\n",
    "The Emissions Inventory provides detailed data on air pollution in London, and includes information on the location and intensity of emissions from various sources. To geolocate these emissions, the Inventory uses a geographic information system (GIS) that uses the British National Grid reference system to represent locations in London. The x and y values provided in the Inventory are the easting and northing coordinates of each emission source, respectively, as measured in meters from the origin of the British National Grid reference system.\n",
    "\n",
    "To convert these coordinates to latitude and longitude, you would need to use a coordinate transformation that converts from the British National Grid reference system to the WGS84 coordinate system, which is the standard coordinate system used by GPS and other mapping systems. There are many tools and libraries available for doing this transformation, such as the pyproj library in Python."
   ]
  },
  {
   "cell_type": "code",
   "execution_count": 5,
   "metadata": {
    "colab": {
     "base_uri": "https://localhost:8080/",
     "height": 206
    },
    "id": "cWqMsmnBxQT6",
    "outputId": "fd3e7d02-3ef6-4f8f-9d09-fa97549823f2"
   },
   "outputs": [
    {
     "data": {
      "text/html": [
       "<div>\n",
       "<style scoped>\n",
       "    .dataframe tbody tr th:only-of-type {\n",
       "        vertical-align: middle;\n",
       "    }\n",
       "\n",
       "    .dataframe tbody tr th {\n",
       "        vertical-align: top;\n",
       "    }\n",
       "\n",
       "    .dataframe thead th {\n",
       "        text-align: right;\n",
       "    }\n",
       "</style>\n",
       "<table border=\"1\" class=\"dataframe\">\n",
       "  <thead>\n",
       "    <tr style=\"text-align: right;\">\n",
       "      <th></th>\n",
       "      <th>x</th>\n",
       "      <th>y</th>\n",
       "      <th>conct</th>\n",
       "      <th>year</th>\n",
       "    </tr>\n",
       "  </thead>\n",
       "  <tbody>\n",
       "    <tr>\n",
       "      <th>0</th>\n",
       "      <td>501460</td>\n",
       "      <td>170580</td>\n",
       "      <td>31.31919</td>\n",
       "      <td>2013</td>\n",
       "    </tr>\n",
       "    <tr>\n",
       "      <th>1</th>\n",
       "      <td>501460</td>\n",
       "      <td>170600</td>\n",
       "      <td>31.55455</td>\n",
       "      <td>2013</td>\n",
       "    </tr>\n",
       "    <tr>\n",
       "      <th>2</th>\n",
       "      <td>501460</td>\n",
       "      <td>170620</td>\n",
       "      <td>31.79392</td>\n",
       "      <td>2013</td>\n",
       "    </tr>\n",
       "    <tr>\n",
       "      <th>3</th>\n",
       "      <td>501460</td>\n",
       "      <td>170640</td>\n",
       "      <td>32.03141</td>\n",
       "      <td>2013</td>\n",
       "    </tr>\n",
       "    <tr>\n",
       "      <th>4</th>\n",
       "      <td>501460</td>\n",
       "      <td>170660</td>\n",
       "      <td>32.26324</td>\n",
       "      <td>2013</td>\n",
       "    </tr>\n",
       "  </tbody>\n",
       "</table>\n",
       "</div>"
      ],
      "text/plain": [
       "        x       y     conct  year\n",
       "0  501460  170580  31.31919  2013\n",
       "1  501460  170600  31.55455  2013\n",
       "2  501460  170620  31.79392  2013\n",
       "3  501460  170640  32.03141  2013\n",
       "4  501460  170660  32.26324  2013"
      ]
     },
     "execution_count": 5,
     "metadata": {},
     "output_type": "execute_result"
    }
   ],
   "source": [
    "df_NO2.head()"
   ]
  },
  {
   "cell_type": "code",
   "execution_count": 6,
   "metadata": {
    "colab": {
     "base_uri": "https://localhost:8080/",
     "height": 206
    },
    "id": "ToXr1_QsOEQk",
    "outputId": "b03d0d40-3cb7-489d-c41d-2e691c15c572"
   },
   "outputs": [
    {
     "data": {
      "text/html": [
       "<div>\n",
       "<style scoped>\n",
       "    .dataframe tbody tr th:only-of-type {\n",
       "        vertical-align: middle;\n",
       "    }\n",
       "\n",
       "    .dataframe tbody tr th {\n",
       "        vertical-align: top;\n",
       "    }\n",
       "\n",
       "    .dataframe thead th {\n",
       "        text-align: right;\n",
       "    }\n",
       "</style>\n",
       "<table border=\"1\" class=\"dataframe\">\n",
       "  <thead>\n",
       "    <tr style=\"text-align: right;\">\n",
       "      <th></th>\n",
       "      <th>x</th>\n",
       "      <th>y</th>\n",
       "      <th>conct</th>\n",
       "      <th>year</th>\n",
       "    </tr>\n",
       "  </thead>\n",
       "  <tbody>\n",
       "    <tr>\n",
       "      <th>0</th>\n",
       "      <td>501460</td>\n",
       "      <td>170580</td>\n",
       "      <td>23.74403</td>\n",
       "      <td>2013</td>\n",
       "    </tr>\n",
       "    <tr>\n",
       "      <th>1</th>\n",
       "      <td>501460</td>\n",
       "      <td>170600</td>\n",
       "      <td>23.78645</td>\n",
       "      <td>2013</td>\n",
       "    </tr>\n",
       "    <tr>\n",
       "      <th>2</th>\n",
       "      <td>501460</td>\n",
       "      <td>170620</td>\n",
       "      <td>23.82961</td>\n",
       "      <td>2013</td>\n",
       "    </tr>\n",
       "    <tr>\n",
       "      <th>3</th>\n",
       "      <td>501460</td>\n",
       "      <td>170640</td>\n",
       "      <td>23.87249</td>\n",
       "      <td>2013</td>\n",
       "    </tr>\n",
       "    <tr>\n",
       "      <th>4</th>\n",
       "      <td>501460</td>\n",
       "      <td>170660</td>\n",
       "      <td>23.91457</td>\n",
       "      <td>2013</td>\n",
       "    </tr>\n",
       "  </tbody>\n",
       "</table>\n",
       "</div>"
      ],
      "text/plain": [
       "        x       y     conct  year\n",
       "0  501460  170580  23.74403  2013\n",
       "1  501460  170600  23.78645  2013\n",
       "2  501460  170620  23.82961  2013\n",
       "3  501460  170640  23.87249  2013\n",
       "4  501460  170660  23.91457  2013"
      ]
     },
     "execution_count": 6,
     "metadata": {},
     "output_type": "execute_result"
    }
   ],
   "source": [
    "df_PM10.head()"
   ]
  },
  {
   "cell_type": "code",
   "execution_count": 7,
   "metadata": {
    "colab": {
     "base_uri": "https://localhost:8080/",
     "height": 206
    },
    "id": "lRPSy63-OEGH",
    "outputId": "18a2fd6a-b9dc-44d5-c5b5-d3db2c8969f6"
   },
   "outputs": [
    {
     "data": {
      "text/html": [
       "<div>\n",
       "<style scoped>\n",
       "    .dataframe tbody tr th:only-of-type {\n",
       "        vertical-align: middle;\n",
       "    }\n",
       "\n",
       "    .dataframe tbody tr th {\n",
       "        vertical-align: top;\n",
       "    }\n",
       "\n",
       "    .dataframe thead th {\n",
       "        text-align: right;\n",
       "    }\n",
       "</style>\n",
       "<table border=\"1\" class=\"dataframe\">\n",
       "  <thead>\n",
       "    <tr style=\"text-align: right;\">\n",
       "      <th></th>\n",
       "      <th>x</th>\n",
       "      <th>y</th>\n",
       "      <th>conct</th>\n",
       "      <th>year</th>\n",
       "    </tr>\n",
       "  </thead>\n",
       "  <tbody>\n",
       "    <tr>\n",
       "      <th>0</th>\n",
       "      <td>501460</td>\n",
       "      <td>170580</td>\n",
       "      <td>14.90253</td>\n",
       "      <td>2013</td>\n",
       "    </tr>\n",
       "    <tr>\n",
       "      <th>1</th>\n",
       "      <td>501460</td>\n",
       "      <td>170600</td>\n",
       "      <td>14.91900</td>\n",
       "      <td>2013</td>\n",
       "    </tr>\n",
       "    <tr>\n",
       "      <th>2</th>\n",
       "      <td>501460</td>\n",
       "      <td>170620</td>\n",
       "      <td>14.93577</td>\n",
       "      <td>2013</td>\n",
       "    </tr>\n",
       "    <tr>\n",
       "      <th>3</th>\n",
       "      <td>501460</td>\n",
       "      <td>170640</td>\n",
       "      <td>14.95249</td>\n",
       "      <td>2013</td>\n",
       "    </tr>\n",
       "    <tr>\n",
       "      <th>4</th>\n",
       "      <td>501460</td>\n",
       "      <td>170660</td>\n",
       "      <td>14.96894</td>\n",
       "      <td>2013</td>\n",
       "    </tr>\n",
       "  </tbody>\n",
       "</table>\n",
       "</div>"
      ],
      "text/plain": [
       "        x       y     conct  year\n",
       "0  501460  170580  14.90253  2013\n",
       "1  501460  170600  14.91900  2013\n",
       "2  501460  170620  14.93577  2013\n",
       "3  501460  170640  14.95249  2013\n",
       "4  501460  170660  14.96894  2013"
      ]
     },
     "execution_count": 7,
     "metadata": {},
     "output_type": "execute_result"
    }
   ],
   "source": [
    "df_PM25.head()"
   ]
  },
  {
   "cell_type": "code",
   "execution_count": 8,
   "metadata": {
    "id": "2QZNJZoMOEUd"
   },
   "outputs": [],
   "source": [
    "# Rename 'conct' column in each data frame to the respective pollutant name \n",
    "df_NOx.rename(columns={'conct':'NOx'}, inplace=True)\n",
    "df_NO2.rename(columns={'conct':'NO2'}, inplace=True)\n",
    "df_PM10.rename(columns={'conct':'PM10'}, inplace=True)\n",
    "df_PM25.rename(columns={'conct':'PM25'}, inplace=True)"
   ]
  },
  {
   "cell_type": "code",
   "execution_count": 9,
   "metadata": {
    "id": "6jnE9KMq23Zc"
   },
   "outputs": [],
   "source": [
    "# Drop the 'year' column in each data frame\n",
    "df_NOx.drop(columns=['year'], inplace=True)\n",
    "df_NO2.drop(columns=['year'], inplace=True)\n",
    "df_PM10.drop(columns=['year'], inplace=True)\n",
    "df_PM25.drop(columns=['year'], inplace=True)"
   ]
  },
  {
   "cell_type": "code",
   "execution_count": 10,
   "metadata": {
    "colab": {
     "base_uri": "https://localhost:8080/",
     "height": 81
    },
    "id": "q3LI1HyD5lU4",
    "outputId": "cde1bcc8-6ae8-4f04-e836-80b1521b8e4f"
   },
   "outputs": [
    {
     "data": {
      "text/html": [
       "<div>\n",
       "<style scoped>\n",
       "    .dataframe tbody tr th:only-of-type {\n",
       "        vertical-align: middle;\n",
       "    }\n",
       "\n",
       "    .dataframe tbody tr th {\n",
       "        vertical-align: top;\n",
       "    }\n",
       "\n",
       "    .dataframe thead th {\n",
       "        text-align: right;\n",
       "    }\n",
       "</style>\n",
       "<table border=\"1\" class=\"dataframe\">\n",
       "  <thead>\n",
       "    <tr style=\"text-align: right;\">\n",
       "      <th></th>\n",
       "      <th>x</th>\n",
       "      <th>y</th>\n",
       "      <th>NOx</th>\n",
       "    </tr>\n",
       "  </thead>\n",
       "  <tbody>\n",
       "    <tr>\n",
       "      <th>0</th>\n",
       "      <td>501460</td>\n",
       "      <td>170580</td>\n",
       "      <td>49.21837</td>\n",
       "    </tr>\n",
       "  </tbody>\n",
       "</table>\n",
       "</div>"
      ],
      "text/plain": [
       "        x       y       NOx\n",
       "0  501460  170580  49.21837"
      ]
     },
     "execution_count": 10,
     "metadata": {},
     "output_type": "execute_result"
    }
   ],
   "source": [
    "# verify the changes\n",
    "df_NOx.head(1)"
   ]
  },
  {
   "cell_type": "code",
   "execution_count": 11,
   "metadata": {
    "colab": {
     "base_uri": "https://localhost:8080/",
     "height": 81
    },
    "id": "PEz-OkmX5xnX",
    "outputId": "2a5e4159-cbfc-437e-de5e-d0f6f6cec37d"
   },
   "outputs": [
    {
     "data": {
      "text/html": [
       "<div>\n",
       "<style scoped>\n",
       "    .dataframe tbody tr th:only-of-type {\n",
       "        vertical-align: middle;\n",
       "    }\n",
       "\n",
       "    .dataframe tbody tr th {\n",
       "        vertical-align: top;\n",
       "    }\n",
       "\n",
       "    .dataframe thead th {\n",
       "        text-align: right;\n",
       "    }\n",
       "</style>\n",
       "<table border=\"1\" class=\"dataframe\">\n",
       "  <thead>\n",
       "    <tr style=\"text-align: right;\">\n",
       "      <th></th>\n",
       "      <th>x</th>\n",
       "      <th>y</th>\n",
       "      <th>NO2</th>\n",
       "    </tr>\n",
       "  </thead>\n",
       "  <tbody>\n",
       "    <tr>\n",
       "      <th>0</th>\n",
       "      <td>501460</td>\n",
       "      <td>170580</td>\n",
       "      <td>31.31919</td>\n",
       "    </tr>\n",
       "  </tbody>\n",
       "</table>\n",
       "</div>"
      ],
      "text/plain": [
       "        x       y       NO2\n",
       "0  501460  170580  31.31919"
      ]
     },
     "execution_count": 11,
     "metadata": {},
     "output_type": "execute_result"
    }
   ],
   "source": [
    "# verify the changes\n",
    "df_NO2.head(1)"
   ]
  },
  {
   "cell_type": "code",
   "execution_count": 12,
   "metadata": {
    "colab": {
     "base_uri": "https://localhost:8080/",
     "height": 81
    },
    "id": "Tblh_FTj5xzv",
    "outputId": "019aa610-1936-4e48-8d3e-7c89c5b0f2d4"
   },
   "outputs": [
    {
     "data": {
      "text/html": [
       "<div>\n",
       "<style scoped>\n",
       "    .dataframe tbody tr th:only-of-type {\n",
       "        vertical-align: middle;\n",
       "    }\n",
       "\n",
       "    .dataframe tbody tr th {\n",
       "        vertical-align: top;\n",
       "    }\n",
       "\n",
       "    .dataframe thead th {\n",
       "        text-align: right;\n",
       "    }\n",
       "</style>\n",
       "<table border=\"1\" class=\"dataframe\">\n",
       "  <thead>\n",
       "    <tr style=\"text-align: right;\">\n",
       "      <th></th>\n",
       "      <th>x</th>\n",
       "      <th>y</th>\n",
       "      <th>PM10</th>\n",
       "    </tr>\n",
       "  </thead>\n",
       "  <tbody>\n",
       "    <tr>\n",
       "      <th>0</th>\n",
       "      <td>501460</td>\n",
       "      <td>170580</td>\n",
       "      <td>23.74403</td>\n",
       "    </tr>\n",
       "  </tbody>\n",
       "</table>\n",
       "</div>"
      ],
      "text/plain": [
       "        x       y      PM10\n",
       "0  501460  170580  23.74403"
      ]
     },
     "execution_count": 12,
     "metadata": {},
     "output_type": "execute_result"
    }
   ],
   "source": [
    "# verify the changes\n",
    "df_PM10.head(1)"
   ]
  },
  {
   "cell_type": "code",
   "execution_count": 13,
   "metadata": {
    "colab": {
     "base_uri": "https://localhost:8080/",
     "height": 81
    },
    "id": "JmOtKLoF5x-n",
    "outputId": "1472b4fa-a343-4459-fe3d-1db0c15be038"
   },
   "outputs": [
    {
     "data": {
      "text/html": [
       "<div>\n",
       "<style scoped>\n",
       "    .dataframe tbody tr th:only-of-type {\n",
       "        vertical-align: middle;\n",
       "    }\n",
       "\n",
       "    .dataframe tbody tr th {\n",
       "        vertical-align: top;\n",
       "    }\n",
       "\n",
       "    .dataframe thead th {\n",
       "        text-align: right;\n",
       "    }\n",
       "</style>\n",
       "<table border=\"1\" class=\"dataframe\">\n",
       "  <thead>\n",
       "    <tr style=\"text-align: right;\">\n",
       "      <th></th>\n",
       "      <th>x</th>\n",
       "      <th>y</th>\n",
       "      <th>PM25</th>\n",
       "    </tr>\n",
       "  </thead>\n",
       "  <tbody>\n",
       "    <tr>\n",
       "      <th>0</th>\n",
       "      <td>501460</td>\n",
       "      <td>170580</td>\n",
       "      <td>14.90253</td>\n",
       "    </tr>\n",
       "  </tbody>\n",
       "</table>\n",
       "</div>"
      ],
      "text/plain": [
       "        x       y      PM25\n",
       "0  501460  170580  14.90253"
      ]
     },
     "execution_count": 13,
     "metadata": {},
     "output_type": "execute_result"
    }
   ],
   "source": [
    "# verify the changes\n",
    "df_PM25.head(1)"
   ]
  },
  {
   "cell_type": "markdown",
   "metadata": {
    "id": "UK7DFPmn47Nv"
   },
   "source": [
    "**Checking each dataframe for:**\n",
    " - duplicate values\n",
    " - missing values"
   ]
  },
  {
   "cell_type": "code",
   "execution_count": 14,
   "metadata": {
    "colab": {
     "base_uri": "https://localhost:8080/"
    },
    "id": "x59QFMk-5w1i",
    "outputId": "cab8dfa1-8136-48d4-f0c5-04ce908baff6"
   },
   "outputs": [
    {
     "data": {
      "text/plain": [
       "0"
      ]
     },
     "execution_count": 14,
     "metadata": {},
     "output_type": "execute_result"
    }
   ],
   "source": [
    "# Check the number of duplicated rows\n",
    "df_NOx.duplicated().sum()"
   ]
  },
  {
   "cell_type": "code",
   "execution_count": 15,
   "metadata": {
    "colab": {
     "base_uri": "https://localhost:8080/"
    },
    "id": "Qfkw89fA5NGL",
    "outputId": "44c7d6d7-c6ea-4be1-b097-6a7396fd7dc2"
   },
   "outputs": [
    {
     "data": {
      "text/plain": [
       "0"
      ]
     },
     "execution_count": 15,
     "metadata": {},
     "output_type": "execute_result"
    }
   ],
   "source": [
    "# Check the number of duplicated rows\n",
    "df_NO2.duplicated().sum()"
   ]
  },
  {
   "cell_type": "code",
   "execution_count": 16,
   "metadata": {
    "colab": {
     "base_uri": "https://localhost:8080/"
    },
    "id": "U83FuImF5Rq5",
    "outputId": "d3fe7501-8961-43e9-f128-aabcbf733f4a"
   },
   "outputs": [
    {
     "data": {
      "text/plain": [
       "0"
      ]
     },
     "execution_count": 16,
     "metadata": {},
     "output_type": "execute_result"
    }
   ],
   "source": [
    "# Check the number of duplicated rows\n",
    "df_PM10.duplicated().sum()"
   ]
  },
  {
   "cell_type": "code",
   "execution_count": 17,
   "metadata": {
    "colab": {
     "base_uri": "https://localhost:8080/"
    },
    "id": "aSjnAvvU5SAx",
    "outputId": "56e7adc2-0cea-4623-b8ac-fbe5fffececd"
   },
   "outputs": [
    {
     "data": {
      "text/plain": [
       "0"
      ]
     },
     "execution_count": 17,
     "metadata": {},
     "output_type": "execute_result"
    }
   ],
   "source": [
    "# Check the number of duplicated rows\n",
    "df_PM25.duplicated().sum()"
   ]
  },
  {
   "cell_type": "code",
   "execution_count": 18,
   "metadata": {
    "colab": {
     "base_uri": "https://localhost:8080/"
    },
    "id": "oh6WqWki5SPf",
    "outputId": "e494fd60-1676-41c7-b15e-77b056e866b3"
   },
   "outputs": [
    {
     "data": {
      "text/plain": [
       "x      0\n",
       "y      0\n",
       "NOx    0\n",
       "dtype: int64"
      ]
     },
     "execution_count": 18,
     "metadata": {},
     "output_type": "execute_result"
    }
   ],
   "source": [
    "# Check the number of missing values\n",
    "df_NOx.isnull().sum()"
   ]
  },
  {
   "cell_type": "code",
   "execution_count": 19,
   "metadata": {
    "colab": {
     "base_uri": "https://localhost:8080/"
    },
    "id": "nK1dbzEd7W_p",
    "outputId": "60650533-7d28-4382-b426-141ba1f7c5a1"
   },
   "outputs": [
    {
     "data": {
      "text/plain": [
       "x      0\n",
       "y      0\n",
       "NO2    0\n",
       "dtype: int64"
      ]
     },
     "execution_count": 19,
     "metadata": {},
     "output_type": "execute_result"
    }
   ],
   "source": [
    "# Check the number of missing values\n",
    "df_NO2.isnull().sum()"
   ]
  },
  {
   "cell_type": "code",
   "execution_count": 20,
   "metadata": {
    "colab": {
     "base_uri": "https://localhost:8080/"
    },
    "id": "skcNVa_A7XNf",
    "outputId": "059de488-1f28-4d4b-afe2-20a3ac538590"
   },
   "outputs": [
    {
     "data": {
      "text/plain": [
       "x       0\n",
       "y       0\n",
       "PM10    0\n",
       "dtype: int64"
      ]
     },
     "execution_count": 20,
     "metadata": {},
     "output_type": "execute_result"
    }
   ],
   "source": [
    "# Check the number of missing values\n",
    "df_PM10.isnull().sum()"
   ]
  },
  {
   "cell_type": "code",
   "execution_count": 21,
   "metadata": {
    "colab": {
     "base_uri": "https://localhost:8080/"
    },
    "id": "nV418GUz7TFe",
    "outputId": "5fb8ef5c-317b-428b-e23d-d86cb304d546"
   },
   "outputs": [
    {
     "data": {
      "text/plain": [
       "x       0\n",
       "y       0\n",
       "PM25    0\n",
       "dtype: int64"
      ]
     },
     "execution_count": 21,
     "metadata": {},
     "output_type": "execute_result"
    }
   ],
   "source": [
    "# Check the number of missing values\n",
    "df_PM25.isnull().sum()"
   ]
  },
  {
   "cell_type": "code",
   "execution_count": 22,
   "metadata": {
    "id": "Iy2aoUsy7pbu"
   },
   "outputs": [],
   "source": [
    "# merge together NOx and NO2 (outer join)\n",
    "df_NOx_NO2 = df_NOx.merge(df_NO2, how='outer', on=['x', 'y'], suffixes=('_NOx', '_NO2'))"
   ]
  },
  {
   "cell_type": "code",
   "execution_count": 23,
   "metadata": {
    "id": "YSUJWfgdAHRB"
   },
   "outputs": [],
   "source": [
    "# merge together PM10 and PM25 (outer join)\n",
    "df_PM10_PM25 = df_PM10.merge(df_PM25, how='outer', on=['x', 'y'], suffixes=('_PM10', '_PM25'))"
   ]
  },
  {
   "cell_type": "code",
   "execution_count": 24,
   "metadata": {
    "id": "1eRd_gYfAHZH"
   },
   "outputs": [],
   "source": [
    "# merge together all data frames: df_NOx_NO2  and  df_PM10_PM25 (outer join)\n",
    "df = df_NOx_NO2.merge(df_PM10_PM25, how='outer', on=['x', 'y'])"
   ]
  },
  {
   "cell_type": "code",
   "execution_count": 25,
   "metadata": {
    "colab": {
     "base_uri": "https://localhost:8080/",
     "height": 206
    },
    "id": "UlR9FIMxApsq",
    "outputId": "53ba285a-5cf0-445b-e1fe-72762ce28441"
   },
   "outputs": [
    {
     "data": {
      "text/html": [
       "<div>\n",
       "<style scoped>\n",
       "    .dataframe tbody tr th:only-of-type {\n",
       "        vertical-align: middle;\n",
       "    }\n",
       "\n",
       "    .dataframe tbody tr th {\n",
       "        vertical-align: top;\n",
       "    }\n",
       "\n",
       "    .dataframe thead th {\n",
       "        text-align: right;\n",
       "    }\n",
       "</style>\n",
       "<table border=\"1\" class=\"dataframe\">\n",
       "  <thead>\n",
       "    <tr style=\"text-align: right;\">\n",
       "      <th></th>\n",
       "      <th>x</th>\n",
       "      <th>y</th>\n",
       "      <th>NOx</th>\n",
       "      <th>NO2</th>\n",
       "      <th>PM10</th>\n",
       "      <th>PM25</th>\n",
       "    </tr>\n",
       "  </thead>\n",
       "  <tbody>\n",
       "    <tr>\n",
       "      <th>5856423</th>\n",
       "      <td>561980</td>\n",
       "      <td>185040</td>\n",
       "      <td>23.47701</td>\n",
       "      <td>19.17837</td>\n",
       "      <td>21.63205</td>\n",
       "      <td>14.03577</td>\n",
       "    </tr>\n",
       "    <tr>\n",
       "      <th>5856424</th>\n",
       "      <td>561980</td>\n",
       "      <td>185060</td>\n",
       "      <td>23.46760</td>\n",
       "      <td>19.17087</td>\n",
       "      <td>21.63140</td>\n",
       "      <td>14.03523</td>\n",
       "    </tr>\n",
       "    <tr>\n",
       "      <th>5856425</th>\n",
       "      <td>561980</td>\n",
       "      <td>185080</td>\n",
       "      <td>23.46071</td>\n",
       "      <td>19.16383</td>\n",
       "      <td>21.63077</td>\n",
       "      <td>14.03471</td>\n",
       "    </tr>\n",
       "    <tr>\n",
       "      <th>5856426</th>\n",
       "      <td>561980</td>\n",
       "      <td>185100</td>\n",
       "      <td>23.45906</td>\n",
       "      <td>19.15805</td>\n",
       "      <td>21.63017</td>\n",
       "      <td>14.03422</td>\n",
       "    </tr>\n",
       "    <tr>\n",
       "      <th>5856427</th>\n",
       "      <td>561980</td>\n",
       "      <td>185120</td>\n",
       "      <td>23.48103</td>\n",
       "      <td>19.15766</td>\n",
       "      <td>21.62972</td>\n",
       "      <td>14.03389</td>\n",
       "    </tr>\n",
       "  </tbody>\n",
       "</table>\n",
       "</div>"
      ],
      "text/plain": [
       "              x       y       NOx       NO2      PM10      PM25\n",
       "5856423  561980  185040  23.47701  19.17837  21.63205  14.03577\n",
       "5856424  561980  185060  23.46760  19.17087  21.63140  14.03523\n",
       "5856425  561980  185080  23.46071  19.16383  21.63077  14.03471\n",
       "5856426  561980  185100  23.45906  19.15805  21.63017  14.03422\n",
       "5856427  561980  185120  23.48103  19.15766  21.62972  14.03389"
      ]
     },
     "execution_count": 25,
     "metadata": {},
     "output_type": "execute_result"
    }
   ],
   "source": [
    "# verify if merge was successful\n",
    "df.tail()"
   ]
  },
  {
   "cell_type": "code",
   "execution_count": 26,
   "metadata": {
    "colab": {
     "base_uri": "https://localhost:8080/"
    },
    "id": "ufRC4XqPAucR",
    "outputId": "b4aa18c3-4949-4aee-bd94-3a03758ed9b1"
   },
   "outputs": [
    {
     "data": {
      "text/plain": [
       "x       0\n",
       "y       0\n",
       "NOx     0\n",
       "NO2     0\n",
       "PM10    0\n",
       "PM25    0\n",
       "dtype: int64"
      ]
     },
     "execution_count": 26,
     "metadata": {},
     "output_type": "execute_result"
    }
   ],
   "source": [
    "# verify the number of NaN values as a result of outer join of 4 data frames\n",
    "df.isnull().sum()"
   ]
  },
  {
   "cell_type": "markdown",
   "metadata": {
    "id": "a0DvuHYddN0u"
   },
   "source": [
    "### **Save clean data **"
   ]
  },
  {
   "cell_type": "code",
   "execution_count": 31,
   "metadata": {
    "id": "gKN4d4jKdLIj"
   },
   "outputs": [],
   "source": [
    "df.to_csv('air_pollutants.csv', index=False)\n"
   ]
  },
  {
   "cell_type": "markdown",
   "metadata": {
    "id": "8rqbS8BIvqWt"
   },
   "source": [
    "# Open clean air_pollutants.csv"
   ]
  },
  {
   "cell_type": "code",
   "execution_count": 32,
   "metadata": {
    "id": "0mzRokq-dLQw"
   },
   "outputs": [],
   "source": [
    "from sklearn.cluster import KMeans\n",
    "import pandas as pd\n",
    "import seaborn as sns\n",
    "import numpy as np\n",
    "from sklearn.preprocessing import MinMaxScaler\n",
    "from sklearn.preprocessing import StandardScaler\n",
    "from sklearn.metrics import silhouette_score\n",
    "\n",
    "from matplotlib import pyplot as plt\n",
    "%matplotlib inline\n"
   ]
  },
  {
   "cell_type": "code",
   "execution_count": 3,
   "metadata": {
    "id": "bpo0ARdDvpzW"
   },
   "outputs": [],
   "source": [
    "# 1. Load CSV files from Google Drive for key polutants\n",
    "\n",
    "file_path = \"air_pollutants.csv\"\n",
    "df = pd.read_csv(file_path)"
   ]
  },
  {
   "cell_type": "code",
   "execution_count": 4,
   "metadata": {
    "colab": {
     "base_uri": "https://localhost:8080/",
     "height": 300
    },
    "id": "JA6q07INBE-N",
    "outputId": "0f89c797-c789-4cd2-c982-698d639b3ad0"
   },
   "outputs": [
    {
     "data": {
      "text/html": [
       "<div>\n",
       "<style scoped>\n",
       "    .dataframe tbody tr th:only-of-type {\n",
       "        vertical-align: middle;\n",
       "    }\n",
       "\n",
       "    .dataframe tbody tr th {\n",
       "        vertical-align: top;\n",
       "    }\n",
       "\n",
       "    .dataframe thead th {\n",
       "        text-align: right;\n",
       "    }\n",
       "</style>\n",
       "<table border=\"1\" class=\"dataframe\">\n",
       "  <thead>\n",
       "    <tr style=\"text-align: right;\">\n",
       "      <th></th>\n",
       "      <th>x</th>\n",
       "      <th>y</th>\n",
       "      <th>NOx</th>\n",
       "      <th>NO2</th>\n",
       "      <th>PM10</th>\n",
       "      <th>PM25</th>\n",
       "    </tr>\n",
       "  </thead>\n",
       "  <tbody>\n",
       "    <tr>\n",
       "      <th>count</th>\n",
       "      <td>5.856428e+06</td>\n",
       "      <td>5.856428e+06</td>\n",
       "      <td>5.856428e+06</td>\n",
       "      <td>5.856428e+06</td>\n",
       "      <td>5.856428e+06</td>\n",
       "      <td>5.856428e+06</td>\n",
       "    </tr>\n",
       "    <tr>\n",
       "      <th>mean</th>\n",
       "      <td>5.292992e+05</td>\n",
       "      <td>1.785424e+05</td>\n",
       "      <td>4.784915e+01</td>\n",
       "      <td>3.070690e+01</td>\n",
       "      <td>2.396516e+01</td>\n",
       "      <td>1.527605e+01</td>\n",
       "    </tr>\n",
       "    <tr>\n",
       "      <th>std</th>\n",
       "      <td>1.481801e+04</td>\n",
       "      <td>1.291426e+04</td>\n",
       "      <td>2.483966e+01</td>\n",
       "      <td>8.940069e+00</td>\n",
       "      <td>1.829711e+00</td>\n",
       "      <td>8.771697e-01</td>\n",
       "    </tr>\n",
       "    <tr>\n",
       "      <th>min</th>\n",
       "      <td>5.014600e+05</td>\n",
       "      <td>1.523400e+05</td>\n",
       "      <td>2.334954e+01</td>\n",
       "      <td>1.909822e+01</td>\n",
       "      <td>2.162767e+01</td>\n",
       "      <td>1.403142e+01</td>\n",
       "    </tr>\n",
       "    <tr>\n",
       "      <th>25%</th>\n",
       "      <td>5.168200e+05</td>\n",
       "      <td>1.679000e+05</td>\n",
       "      <td>3.416127e+01</td>\n",
       "      <td>2.497873e+01</td>\n",
       "      <td>2.280733e+01</td>\n",
       "      <td>1.465707e+01</td>\n",
       "    </tr>\n",
       "    <tr>\n",
       "      <th>50%</th>\n",
       "      <td>5.292400e+05</td>\n",
       "      <td>1.789400e+05</td>\n",
       "      <td>4.250738e+01</td>\n",
       "      <td>2.888253e+01</td>\n",
       "      <td>2.358067e+01</td>\n",
       "      <td>1.509888e+01</td>\n",
       "    </tr>\n",
       "    <tr>\n",
       "      <th>75%</th>\n",
       "      <td>5.416600e+05</td>\n",
       "      <td>1.893800e+05</td>\n",
       "      <td>5.304817e+01</td>\n",
       "      <td>3.363725e+01</td>\n",
       "      <td>2.455804e+01</td>\n",
       "      <td>1.564445e+01</td>\n",
       "    </tr>\n",
       "    <tr>\n",
       "      <th>max</th>\n",
       "      <td>5.619800e+05</td>\n",
       "      <td>2.034400e+05</td>\n",
       "      <td>9.237618e+03</td>\n",
       "      <td>6.430457e+02</td>\n",
       "      <td>1.193994e+02</td>\n",
       "      <td>1.108271e+02</td>\n",
       "    </tr>\n",
       "  </tbody>\n",
       "</table>\n",
       "</div>"
      ],
      "text/plain": [
       "                  x             y           NOx           NO2          PM10  \\\n",
       "count  5.856428e+06  5.856428e+06  5.856428e+06  5.856428e+06  5.856428e+06   \n",
       "mean   5.292992e+05  1.785424e+05  4.784915e+01  3.070690e+01  2.396516e+01   \n",
       "std    1.481801e+04  1.291426e+04  2.483966e+01  8.940069e+00  1.829711e+00   \n",
       "min    5.014600e+05  1.523400e+05  2.334954e+01  1.909822e+01  2.162767e+01   \n",
       "25%    5.168200e+05  1.679000e+05  3.416127e+01  2.497873e+01  2.280733e+01   \n",
       "50%    5.292400e+05  1.789400e+05  4.250738e+01  2.888253e+01  2.358067e+01   \n",
       "75%    5.416600e+05  1.893800e+05  5.304817e+01  3.363725e+01  2.455804e+01   \n",
       "max    5.619800e+05  2.034400e+05  9.237618e+03  6.430457e+02  1.193994e+02   \n",
       "\n",
       "               PM25  \n",
       "count  5.856428e+06  \n",
       "mean   1.527605e+01  \n",
       "std    8.771697e-01  \n",
       "min    1.403142e+01  \n",
       "25%    1.465707e+01  \n",
       "50%    1.509888e+01  \n",
       "75%    1.564445e+01  \n",
       "max    1.108271e+02  "
      ]
     },
     "execution_count": 4,
     "metadata": {},
     "output_type": "execute_result"
    }
   ],
   "source": [
    "# check the descriptive statistics \n",
    "df.describe()"
   ]
  },
  {
   "cell_type": "code",
   "execution_count": 5,
   "metadata": {
    "colab": {
     "base_uri": "https://localhost:8080/"
    },
    "id": "Y_zfFyGLBdhu",
    "outputId": "b4e7a8ab-e14a-4268-ea79-8ed600650320"
   },
   "outputs": [
    {
     "name": "stdout",
     "output_type": "stream",
     "text": [
      "<class 'pandas.core.frame.DataFrame'>\n",
      "RangeIndex: 5856428 entries, 0 to 5856427\n",
      "Data columns (total 6 columns):\n",
      " #   Column  Dtype  \n",
      "---  ------  -----  \n",
      " 0   x       int64  \n",
      " 1   y       int64  \n",
      " 2   NOx     float64\n",
      " 3   NO2     float64\n",
      " 4   PM10    float64\n",
      " 5   PM25    float64\n",
      "dtypes: float64(4), int64(2)\n",
      "memory usage: 268.1 MB\n"
     ]
    }
   ],
   "source": [
    "# check the data type\n",
    "df.info()"
   ]
  },
  {
   "cell_type": "markdown",
   "metadata": {
    "id": "RrD7-EAiC2Ou"
   },
   "source": [
    "**Handling correlated features**\n",
    "\n",
    " The NO2 and NOx columns most likely are correlated, becasue NOx is a term used to describe the family of nitrogen oxides, which includes both NO and NO2.\n",
    " NO2 is a subset of NOx and is formed when NO reacts with oxygen in the atmosphere.\n",
    " \n"
   ]
  },
  {
   "cell_type": "code",
   "execution_count": 6,
   "metadata": {
    "colab": {
     "base_uri": "https://localhost:8080/",
     "height": 269
    },
    "id": "0ZKa81ydCfxO",
    "outputId": "8cb131be-f63b-4244-f626-df05c2d0ae18"
   },
   "outputs": [
    {
     "data": {
      "image/png": "[encoded data removed]",
      "text/plain": [
       "<Figure size 432x288 with 2 Axes>"
      ]
     },
     "metadata": {
      "needs_background": "light"
     },
     "output_type": "display_data"
    }
   ],
   "source": [
    "# Calculate the correlation matrix\n",
    "corr_matrix = df.corr()\n",
    "\n",
    "# Create a heatmap using Seaborn\n",
    "sns.heatmap(corr_matrix, annot=True, cmap='coolwarm')\n",
    "\n",
    "# Show the plot\n",
    "plt.show()"
   ]
  },
  {
   "cell_type": "markdown",
   "metadata": {
    "id": "IcbxBa1_Mjy_"
   },
   "source": [
    "It appears that there is a high correlation value of 0.9 and above  between NOx, NO2, PM10, and PM25 indicating a strong positive linear relationship between these variables.\n",
    "\n",
    "This multicollinearity makes sense in the context of air pollution data, as all pollutants are related to sources of air pollution, such as transportation emissions.\n",
    "\n",
    "\"The high correlation of air pollutants results in collinearity, making it difficult to determine the independent effect of a single pollutant. \"\n",
    "source: https://www.ncbi.nlm.nih.gov/pmc/articles/PMC6612149/\n",
    "\n",
    "\n",
    "**Note:** multicollinearity can pose problems in some modeling techniques, such as linear regression, where it can lead to unstable estimates of the model coefficients and make it difficult to interpret the results. \n",
    "\n",
    "Source: https://towardsdatascience.com/multi-collinearity-in-regression-fe7a2c1467ea\n",
    "\n",
    "Also K-means can be affected, \n",
    "K-means clustering algorithm with highly correlated variables highly correlated variables can cause K-means to assign more weight to certain variables and ignore others, which can lead to suboptimal clustering results. However, there many posts stating that it is okay to use it:\n",
    "https://stats.stackexchange.com/questions/62253/do-i-need-to-drop-variables-that-are-correlated-collinear-before-running-kmeans\n",
    "\n"
   ]
  },
  {
   "cell_type": "markdown",
   "metadata": {
    "id": "EIkf_DT2FBT_"
   },
   "source": [
    "**Plot and explore the data**"
   ]
  },
  {
   "cell_type": "markdown",
   "metadata": {
    "id": "9Dlnc-NfWTVS"
   },
   "source": [
    "**Analysing distribution of data for pollutant columns and assessing which scaler to use**\n",
    "\n",
    "\n",
    "After creating the histograms,  visually inspect the shape of the distribution for each column. \n",
    "\n",
    "- If a column has a roughly **symmetric** distribution, then **StandardScaler** may be a good choice for scaling. \n",
    "- If a column has a **skewed** distribution, then M**inMaxScaler** may be a better choice. \n",
    "- If a column contains **outliers**, then you may use  **RobustScaler**, which is less sensitive to outliers."
   ]
  },
  {
   "cell_type": "code",
   "execution_count": 7,
   "metadata": {
    "colab": {
     "base_uri": "https://localhost:8080/",
     "height": 499
    },
    "id": "moTCAyVQW1XL",
    "outputId": "7bc2596b-a850-476b-e769-495cc7765028"
   },
   "outputs": [
    {
     "data": {
      "image/png": "[encoded data removed]",
      "text/plain": [
       "<Figure size 720x576 with 4 Axes>"
      ]
     },
     "metadata": {
      "needs_background": "light"
     },
     "output_type": "display_data"
    }
   ],
   "source": [
    "# Plot histograms for each column in the DataFrame\n",
    "df[['NOx', 'NO2', 'PM10', 'PM25']].hist(bins=5000, figsize=(10,8))\n",
    "\n",
    "# Show the plot\n",
    "plt.show()"
   ]
  },
  {
   "cell_type": "markdown",
   "metadata": {
    "id": "vN9z1LRBDAnF"
   },
   "source": [
    "**Check for outliers**\n",
    "\n",
    " Outliers can significantly impact the performance of K-means. Check for outliers in your data and consider removing or transforming them.\n",
    "\n"
   ]
  },
  {
   "cell_type": "code",
   "execution_count": 8,
   "metadata": {
    "colab": {
     "base_uri": "https://localhost:8080/",
     "height": 499
    },
    "id": "596wKCyCbpQq",
    "outputId": "24172ea7-f954-4934-9f1a-4eed12d383b7"
   },
   "outputs": [
    {
     "data": {
      "image/png": "[encoded data removed]",
      "text/plain": [
       "<Figure size 720x576 with 1 Axes>"
      ]
     },
     "metadata": {
      "needs_background": "light"
     },
     "output_type": "display_data"
    }
   ],
   "source": [
    "# Plot the boxplot for all columns 'NOx', 'NO2', 'PM10', 'PM25'\n",
    "\n",
    "plt.figure(figsize=(10,8))\n",
    "df[['NOx', 'NO2', 'PM10', 'PM25']].boxplot()\n",
    "plt.xticks(rotation=45)\n",
    "plt.show()"
   ]
  },
  {
   "cell_type": "markdown",
   "metadata": {
    "id": "lMNFiqvrCgZD"
   },
   "source": [
    "**Normalize the data**\n",
    "\n",
    "K-means is a distance-based clustering algorithm and is sensitive to the scale of the data. Normalizing the  data will ensure that features with larger values do not dominate the clustering.\n",
    "\n",
    "- If a column has a roughly symmetric distribution, then StandardScaler may be a good choice for scaling.\n",
    "- If a column has a skewed distribution, then MinMaxScaler may be a better choice.\n",
    "- If a column contains outliers, then you may use RobustScaler, which is less sensitive to outliers."
   ]
  },
  {
   "cell_type": "code",
   "execution_count": 13,
   "metadata": {
    "id": "tZGLi8UzCf22"
   },
   "outputs": [],
   "source": [
    "# Select the columns to scale\n",
    "cols_to_scale = ['x','y','NOx', 'NO2', 'PM10', 'PM25']"
   ]
  },
  {
   "cell_type": "code",
   "execution_count": 14,
   "metadata": {
    "id": "DM-OEgbXC_Ku"
   },
   "outputs": [],
   "source": [
    "# Create a MinMaxScaler object\n",
    "scaler = MinMaxScaler()"
   ]
  },
  {
   "cell_type": "code",
   "execution_count": 15,
   "metadata": {
    "id": "rQEXOQMjfHUE"
   },
   "outputs": [],
   "source": [
    "# Fit and transform the the selected columns (perform normalization)\n",
    "df_scaled = scaler.fit_transform(df[cols_to_scale])"
   ]
  },
  {
   "cell_type": "code",
   "execution_count": 16,
   "metadata": {
    "colab": {
     "base_uri": "https://localhost:8080/",
     "height": 206
    },
    "id": "EKcd-F-kVSs5",
    "outputId": "4faee855-6ede-46d8-ad91-e92410dbba3b"
   },
   "outputs": [
    {
     "data": {
      "text/html": [
       "<div>\n",
       "<style scoped>\n",
       "    .dataframe tbody tr th:only-of-type {\n",
       "        vertical-align: middle;\n",
       "    }\n",
       "\n",
       "    .dataframe tbody tr th {\n",
       "        vertical-align: top;\n",
       "    }\n",
       "\n",
       "    .dataframe thead th {\n",
       "        text-align: right;\n",
       "    }\n",
       "</style>\n",
       "<table border=\"1\" class=\"dataframe\">\n",
       "  <thead>\n",
       "    <tr style=\"text-align: right;\">\n",
       "      <th></th>\n",
       "      <th>x</th>\n",
       "      <th>y</th>\n",
       "      <th>NOx</th>\n",
       "      <th>NO2</th>\n",
       "      <th>PM10</th>\n",
       "      <th>PM25</th>\n",
       "    </tr>\n",
       "  </thead>\n",
       "  <tbody>\n",
       "    <tr>\n",
       "      <th>0</th>\n",
       "      <td>0.0</td>\n",
       "      <td>0.356947</td>\n",
       "      <td>0.002807</td>\n",
       "      <td>0.019587</td>\n",
       "      <td>0.021646</td>\n",
       "      <td>0.008999</td>\n",
       "    </tr>\n",
       "    <tr>\n",
       "      <th>1</th>\n",
       "      <td>0.0</td>\n",
       "      <td>0.357339</td>\n",
       "      <td>0.002869</td>\n",
       "      <td>0.019964</td>\n",
       "      <td>0.022080</td>\n",
       "      <td>0.009170</td>\n",
       "    </tr>\n",
       "    <tr>\n",
       "      <th>2</th>\n",
       "      <td>0.0</td>\n",
       "      <td>0.357730</td>\n",
       "      <td>0.002932</td>\n",
       "      <td>0.020347</td>\n",
       "      <td>0.022521</td>\n",
       "      <td>0.009343</td>\n",
       "    </tr>\n",
       "    <tr>\n",
       "      <th>3</th>\n",
       "      <td>0.0</td>\n",
       "      <td>0.358121</td>\n",
       "      <td>0.002995</td>\n",
       "      <td>0.020728</td>\n",
       "      <td>0.022960</td>\n",
       "      <td>0.009516</td>\n",
       "    </tr>\n",
       "    <tr>\n",
       "      <th>4</th>\n",
       "      <td>0.0</td>\n",
       "      <td>0.358513</td>\n",
       "      <td>0.003056</td>\n",
       "      <td>0.021100</td>\n",
       "      <td>0.023390</td>\n",
       "      <td>0.009686</td>\n",
       "    </tr>\n",
       "  </tbody>\n",
       "</table>\n",
       "</div>"
      ],
      "text/plain": [
       "     x         y       NOx       NO2      PM10      PM25\n",
       "0  0.0  0.356947  0.002807  0.019587  0.021646  0.008999\n",
       "1  0.0  0.357339  0.002869  0.019964  0.022080  0.009170\n",
       "2  0.0  0.357730  0.002932  0.020347  0.022521  0.009343\n",
       "3  0.0  0.358121  0.002995  0.020728  0.022960  0.009516\n",
       "4  0.0  0.358513  0.003056  0.021100  0.023390  0.009686"
      ]
     },
     "execution_count": 16,
     "metadata": {},
     "output_type": "execute_result"
    }
   ],
   "source": [
    "# Convert the normalized data back to a pandas DataFrame\n",
    "df_normalized = pd.DataFrame(df_scaled, columns=cols_to_scale)\n",
    "\n",
    "# Show the normalized data\n",
    "df_normalized.head()"
   ]
  },
  {
   "cell_type": "markdown",
   "metadata": {
    "id": "_0_bXqTw16LZ"
   },
   "source": [
    "## train the KMeans model"
   ]
  },
  {
   "cell_type": "markdown",
   "metadata": {
    "id": "4F4QHzTsz1Ov"
   },
   "source": [
    "Goal 1:  cluster the grid coordinates based on the concentration of air pollutants, we will use all columns (x, y, NOx, NO2, PM10, PM25) as input to the k-means algorithm. This will create clusters based on the combined information from all columns, taking into account the spatial location (x and y) and the concentration of the air pollutants (NOx, NO2, PM10, PM25).\n",
    "\n",
    "\n",
    "**Determine the optimal number of clusters**\n",
    "\n",
    " K-means requires you to specify the number of clusters upfront. Use techniques like the elbow method or silhouette analysis to determine the optimal number of clusters for your data."
   ]
  },
  {
   "cell_type": "code",
   "execution_count": 28,
   "metadata": {},
   "outputs": [],
   "source": [
    "# Define a range of values for k (the number of clusters) that you want to test\n",
    "k_values = range(1, 11)"
   ]
  },
  {
   "cell_type": "code",
   "execution_count": 29,
   "metadata": {},
   "outputs": [],
   "source": [
    "# Create a list to store the within-cluster sum of squares (WCSS) for each value of k\n",
    "wcss = []"
   ]
  },
  {
   "cell_type": "code",
   "execution_count": 30,
   "metadata": {},
   "outputs": [],
   "source": [
    "# Iterate through the range of k values and fit a k-means clustering model to the data for\n",
    "# each k value\n",
    "for k in k_values:\n",
    "    kmeans = KMeans(n_clusters=k)\n",
    "    kmeans.fit(df_normalized)\n",
    "    wcss.append(kmeans.inertia_)\n"
   ]
  },
  {
   "cell_type": "code",
   "execution_count": 31,
   "metadata": {},
   "outputs": [
    {
     "data": {
      "image/png": "[encoded data removed]",
      "text/plain": [
       "<Figure size 432x288 with 1 Axes>"
      ]
     },
     "metadata": {
      "needs_background": "light"
     },
     "output_type": "display_data"
    }
   ],
   "source": [
    "# Plot the WCSS for each value of k\n",
    "plt.plot(k_values, wcss, 'bx-')\n",
    "plt.xlabel('Number of Clusters (k)')\n",
    "plt.ylabel('Within-Cluster Sum of Squares (WCSS)')\n",
    "plt.title('Elbow Method')\n",
    "plt.show()"
   ]
  },
  {
   "cell_type": "markdown",
   "metadata": {},
   "source": [
    "After examining the plot we identify the \"elbow\" point at k=3, which is the point of diminishing returns in terms of the reduction in WCSS as the number of clusters increases. The optimal number of clusters is typically the value of k at the elbow point."
   ]
  },
  {
   "cell_type": "code",
   "execution_count": 17,
   "metadata": {
    "id": "OQ45iZAX2CsX"
   },
   "outputs": [],
   "source": [
    "# create an instance of the KMeans class and set the number of clusters\n",
    "kmeans = KMeans(n_clusters=3)"
   ]
  },
  {
   "cell_type": "code",
   "execution_count": 18,
   "metadata": {
    "colab": {
     "base_uri": "https://localhost:8080/",
     "height": 129
    },
    "id": "q3WEGSTpC_N-",
    "outputId": "160c49d5-17b2-4b65-fb8d-689d866d047b"
   },
   "outputs": [
    {
     "data": {
      "text/plain": [
       "KMeans(n_clusters=3)"
      ]
     },
     "execution_count": 18,
     "metadata": {},
     "output_type": "execute_result"
    }
   ],
   "source": [
    "# fit the k-means model to your scaled data using the fit() method\n",
    "kmeans.fit(df_normalized)"
   ]
  },
  {
   "cell_type": "code",
   "execution_count": 19,
   "metadata": {
    "id": "qBaWTn6lC_Qv"
   },
   "outputs": [],
   "source": [
    "#Once the k-means model is trained, you can obtain the cluster labels\n",
    "#  for each data point using the predict() method\n",
    "cluster_labels = kmeans.predict(df_normalized)"
   ]
  },
  {
   "cell_type": "code",
   "execution_count": 24,
   "metadata": {},
   "outputs": [],
   "source": [
    "# get the centroids using the cluster_centers_ attribute:\n",
    "centroids = kmeans.cluster_centers_"
   ]
  },
  {
   "cell_type": "code",
   "execution_count": 20,
   "metadata": {
    "colab": {
     "base_uri": "https://localhost:8080/"
    },
    "id": "LXX5V9YEDAwu",
    "outputId": "ef65bc41-44eb-4c0e-d99d-823fc4797251"
   },
   "outputs": [
    {
     "data": {
      "text/plain": [
       "array([2, 2, 2, ..., 1, 1, 1])"
      ]
     },
     "execution_count": 20,
     "metadata": {},
     "output_type": "execute_result"
    }
   ],
   "source": [
    "#The cluster_centers_ attribute returns an array of shape (n_clusters, n_features)\n",
    "# that contains the coordinates of the centroids for each cluster.\n",
    "cluster_labels"
   ]
  },
  {
   "cell_type": "code",
   "execution_count": 22,
   "metadata": {},
   "outputs": [],
   "source": [
    "# add cluster labels to the df_normalised \n",
    "df_normalized['cluster'] = cluster_labels"
   ]
  },
  {
   "cell_type": "code",
   "execution_count": 25,
   "metadata": {
    "colab": {
     "base_uri": "https://localhost:8080/",
     "height": 235
    },
    "id": "Zikxz5XYDAz1",
    "outputId": "2117d6ff-02db-4625-a759-c714a1d99c58"
   },
   "outputs": [
    {
     "data": {
      "image/png": "[encoded data removed]",
      "text/plain": [
       "<Figure size 432x288 with 1 Axes>"
      ]
     },
     "metadata": {
      "needs_background": "light"
     },
     "output_type": "display_data"
    }
   ],
   "source": [
    "\"\"\"plot your data and the cluster centroids to visualize the results of the k-means \n",
    "clustering. Use the scatter() function from the matplotlib library to plot the data \n",
    "points and the scatter() function again to plot the centroids.\"\"\"\n",
    "\n",
    "\n",
    "# Plot the data points\n",
    "plt.scatter(df_normalized['x'], df_normalized['y'], c=cluster_labels)\n",
    "\n",
    "# Plot the cluster centroids\n",
    "plt.scatter(centroids[:, 0], centroids[:, 1], marker='x', s=100, linewidths=3, color='r')\n",
    "\n",
    "# Show the plot\n",
    "plt.show()"
   ]
  },
  {
   "cell_type": "markdown",
   "metadata": {
    "id": "OnWabyXPDGyf"
   },
   "source": [
    "**Evaluate the results**\n",
    "\n",
    " Finally, evaluate the quality of the clustering results using metrics like the within-cluster sum of squares (WCSS) or silhouette score."
   ]
  },
  {
   "cell_type": "code",
   "execution_count": 33,
   "metadata": {
    "id": "JdgLZmPvDHEF"
   },
   "outputs": [],
   "source": [
    "# Calculate the WCSS for the clustering results:\n",
    "wcss = kmeans.inertia_"
   ]
  },
  {
   "cell_type": "code",
   "execution_count": null,
   "metadata": {
    "id": "PfAlmAB3DHG9"
   },
   "outputs": [],
   "source": [
    "# Calculate the silhouette score for the clustering results:\n",
    "silhouette_avg = silhouette_score(df_normalized, cluster_labels)\n",
    "print('WCSS:', wcss)\n",
    "print('Silhouette Score:', silhouette_avg)\n",
    "\n",
    "\"\"\"The WCSS is a measure of how compact the clusters are, and lower values\n",
    "indicate better clustering results. The silhouette score is a measure of\n",
    "how well-separated the clusters are, and higher values indicate better\n",
    "clustering results. However, these metrics should be used in conjunction \n",
    "with visual inspection of the clustering results to ensure that the clusters\n",
    "make sense and are meaningful for the specific problem you are trying to solve.\"\"\""
   ]
  },
  {
   "cell_type": "code",
   "execution_count": null,
   "metadata": {
    "id": "RljwqTIGDHKC"
   },
   "outputs": [],
   "source": []
  }
 ],
 "metadata": {
  "colab": {
   "provenance": []
  },
  "kernelspec": {
   "display_name": "Python 3",
   "language": "python",
   "name": "python3"
  },
  "language_info": {
   "codemirror_mode": {
    "name": "ipython",
    "version": 3
   },
   "file_extension": ".py",
   "mimetype": "text/x-python",
   "name": "python",
   "nbconvert_exporter": "python",
   "pygments_lexer": "ipython3",
   "version": "3.8.8"
  }
 },
 "nbformat": 4,
 "nbformat_minor": 1
}
